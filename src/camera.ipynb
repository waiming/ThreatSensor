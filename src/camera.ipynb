{
 "cells": [
  {
   "cell_type": "code",
   "execution_count": 5,
   "id": "5c14c1ab-54e0-471a-a5c1-212fc8066783",
   "metadata": {},
   "outputs": [
    {
     "ename": "TypeError",
     "evalue": "'collections.OrderedDict' object is not callable",
     "output_type": "error",
     "traceback": [
      "\u001b[0;31m---------------------------------------------------------------------------\u001b[0m",
      "\u001b[0;31mTypeError\u001b[0m                                 Traceback (most recent call last)",
      "Cell \u001b[0;32mIn[5], line 26\u001b[0m\n\u001b[1;32m     23\u001b[0m     \u001b[38;5;28;01mbreak\u001b[39;00m\n\u001b[1;32m     25\u001b[0m \u001b[38;5;66;03m# Perform YOLOv8 inference\u001b[39;00m\n\u001b[0;32m---> 26\u001b[0m results \u001b[38;5;241m=\u001b[39m \u001b[43mmodel\u001b[49m\u001b[43m(\u001b[49m\u001b[43mframe\u001b[49m\u001b[43m)\u001b[49m\n\u001b[1;32m     28\u001b[0m \u001b[38;5;66;03m# Draw bounding boxes on the frame\u001b[39;00m\n\u001b[1;32m     29\u001b[0m CONFIDENCE_THRESHOLD \u001b[38;5;241m=\u001b[39m \u001b[38;5;241m0.5\u001b[39m  \u001b[38;5;66;03m# Adjust based on evaluation\u001b[39;00m\n",
      "\u001b[0;31mTypeError\u001b[0m: 'collections.OrderedDict' object is not callable"
     ]
    }
   ],
   "source": [
    "\n",
    "import torch\n",
    "from ultralytics import YOLO\n",
    "import cv2\n",
    "\n",
    "# Load the trained YOLOv8 model (replace with your trained model file)\n",
    "MODEL_PATH = \"../model/trained_model.pt\"  # Make sure the model file exists in the same directory\n",
    "model = torch.load(MODEL_PATH)\n",
    "\n",
    "# Open webcam (change to a video file path if needed)\n",
    "VIDEO_SOURCE = 0  # Change to \"video.mp4\" if using a recorded file\n",
    "cap = cv2.VideoCapture(VIDEO_SOURCE)\n",
    "\n",
    "# Check if video source is opened\n",
    "if not cap.isOpened():\n",
    "    print(\"Error: Could not open video source.\")\n",
    "    exit()\n",
    "\n",
    "# Loop for real-time detection\n",
    "while cap.isOpened():\n",
    "    ret, frame = cap.read()\n",
    "    if not ret:\n",
    "        print(\"Error: Could not read frame.\")\n",
    "        break\n",
    "\n",
    "    # Perform YOLOv8 inference\n",
    "    results = model(frame)\n",
    "\n",
    "    # Draw bounding boxes on the frame\n",
    "    CONFIDENCE_THRESHOLD = 0.5  # Adjust based on evaluation\n",
    "\n",
    "    for r in results:\n",
    "        for box in r.boxes:\n",
    "            conf = box.conf[0]  # Confidence score\n",
    "            cls = int(box.cls[0])  # Class label\n",
    "    \n",
    "            if conf >= CONFIDENCE_THRESHOLD:  # Apply threshold\n",
    "                x1, y1, x2, y2 = map(int, box.xyxy[0])\n",
    "                label = f\"Violence: {conf:.2f}\" if cls == 0 else \"Non-Violent\"\n",
    "                color = (0, 0, 255) if cls == 0 else (0, 255, 0)\n",
    "    \n",
    "                cv2.rectangle(frame, (x1, y1), (x2, y2), color, 2)\n",
    "                cv2.putText(frame, label, (x1, y1 - 10), cv2.FONT_HERSHEY_SIMPLEX, 0.5, color, 2)\n",
    "\n",
    "    # Display the result\n",
    "    cv2.imshow(\"Violence Detection\", frame)\n",
    "\n",
    "    # Exit on 'q' key press\n",
    "    if cv2.waitKey(1) & 0xFF == ord(\"q\"):\n",
    "        break\n",
    "\n",
    "# Release resources\n",
    "cap.release()\n",
    "cv2.destroyAllWindows()"
   ]
  },
  {
   "cell_type": "code",
   "execution_count": null,
   "id": "a4bfab2e-f8b8-4449-8c47-2280fc2fca87",
   "metadata": {},
   "outputs": [],
   "source": []
  }
 ],
 "metadata": {
  "kernelspec": {
   "display_name": "Python [conda env:threatsensor]",
   "language": "python",
   "name": "conda-env-threatsensor-py"
  },
  "language_info": {
   "codemirror_mode": {
    "name": "ipython",
    "version": 3
   },
   "file_extension": ".py",
   "mimetype": "text/x-python",
   "name": "python",
   "nbconvert_exporter": "python",
   "pygments_lexer": "ipython3",
   "version": "3.12.0"
  }
 },
 "nbformat": 4,
 "nbformat_minor": 5
}
